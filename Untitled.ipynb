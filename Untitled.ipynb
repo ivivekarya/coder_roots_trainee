{
 "cells": [
  {
   "cell_type": "code",
   "execution_count": null,
   "id": "528ee90a-e357-4c7e-bfaf-9e1b18ed992e",
   "metadata": {},
   "outputs": [],
   "source": [
    "pip install plotly-express"
   ]
  },
  {
   "cell_type": "code",
   "execution_count": null,
   "id": "084ad24e-ac44-42e4-9d4c-fa71de917218",
   "metadata": {},
   "outputs": [],
   "source": []
  }
 ],
 "metadata": {
  "kernelspec": {
   "display_name": "Python 3 (ipykernel)",
   "language": "python",
   "name": "python3"
  },
  "language_info": {
   "codemirror_mode": {
    "name": "ipython",
    "version": 3
   },
   "file_extension": ".py",
   "mimetype": "text/x-python",
   "name": "python",
   "nbconvert_exporter": "python",
   "pygments_lexer": "ipython3",
   "version": "3.12.9"
  }
 },
 "nbformat": 4,
 "nbformat_minor": 5
}
